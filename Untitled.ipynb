{
 "cells": [
  {
   "cell_type": "code",
   "execution_count": 1,
   "metadata": {},
   "outputs": [],
   "source": [
    "import json\n",
    "import boto3\n",
    "import tweepy\n",
    "\n",
    "from tqdm import tqdm\n",
    "from secrets_manager import get_secret"
   ]
  },
  {
   "cell_type": "code",
   "execution_count": 30,
   "metadata": {},
   "outputs": [],
   "source": [
    "s3 = boto3.client(\"s3\")\n",
    "ssm = boto3.client(\"ssm\")"
   ]
  },
  {
   "cell_type": "markdown",
   "metadata": {},
   "source": [
    "#### Get Secrets"
   ]
  },
  {
   "cell_type": "code",
   "execution_count": 2,
   "metadata": {},
   "outputs": [],
   "source": [
    "secrets = get_secret()"
   ]
  },
  {
   "cell_type": "markdown",
   "metadata": {},
   "source": [
    "#### Auth Twitter API"
   ]
  },
  {
   "cell_type": "code",
   "execution_count": 3,
   "metadata": {},
   "outputs": [],
   "source": [
    "# Define a autenticação\n",
    "auth = tweepy.OAuthHandler(secrets[\"CONSUMER_KEY\"], secrets[\"CONSUMER_SECRET\"])\n",
    "auth.set_access_token(secrets[\"ACCESS_TOKEN\"], secrets[\"ACCESS_TOKEN_SECRET\"])\n",
    "\n",
    "# Instancia o cliente do Twitter\n",
    "api = tweepy.API(auth, parser=tweepy.parsers.JSONParser())"
   ]
  },
  {
   "cell_type": "markdown",
   "metadata": {},
   "source": [
    "#### Get last tweet id"
   ]
  },
  {
   "cell_type": "code",
   "execution_count": 49,
   "metadata": {},
   "outputs": [
    {
     "data": {
      "text/plain": [
       "'1367826096138424322'"
      ]
     },
     "execution_count": 49,
     "metadata": {},
     "output_type": "execute_result"
    }
   ],
   "source": [
    "'1367826096138424322'"
   ]
  },
  {
   "cell_type": "code",
   "execution_count": 103,
   "metadata": {},
   "outputs": [
    {
     "data": {
      "text/plain": [
       "'1368383368451260418'"
      ]
     },
     "execution_count": 103,
     "metadata": {},
     "output_type": "execute_result"
    }
   ],
   "source": [
    "since_id = ssm.get_parameter(Name=\"mlops-bot-since-id\")[\"Parameter\"][\"Value\"]\n",
    "since_id"
   ]
  },
  {
   "cell_type": "code",
   "execution_count": 107,
   "metadata": {},
   "outputs": [],
   "source": [
    "tweets = api.search(q=\"#mlops -filter:retweets\", result_type=\"recent\", count=50)#, since_id=since_id)"
   ]
  },
  {
   "cell_type": "code",
   "execution_count": 108,
   "metadata": {},
   "outputs": [],
   "source": [
    "status = tweets[\"statuses\"]"
   ]
  },
  {
   "cell_type": "code",
   "execution_count": 111,
   "metadata": {},
   "outputs": [
    {
     "name": "stdout",
     "output_type": "stream",
     "text": [
      "1368353791918022661\n",
      "1368344655759171586\n",
      "1368300342480412673\n",
      "1368278196093878276\n",
      "1368271386444201991\n",
      "1368219473371672585\n",
      "1368215051136610315\n",
      "1368203548962480129\n",
      "1368196927721009162\n",
      "1368194078115045376\n",
      "1368189409246519311\n",
      "1368089467601387520\n",
      "1368061676206100484\n",
      "1367947024281317376\n",
      "1367940755927433216\n",
      "1367930918745292808\n",
      "1367922714795642881\n",
      "1367913577953296389\n",
      "1367912816103976960\n",
      "1367898712891154432\n",
      "1367895064614236163\n",
      "1367893923818070021\n",
      "1367882856371019778\n",
      "1367879842927116289\n",
      "1367879842763509762\n",
      "1367876197984657408\n",
      "1367875092420657152\n",
      "1367868206296272898\n",
      "1367852530965884932\n",
      "1367844852747169795\n",
      "1367843092276142082\n",
      "1367826096138424322\n",
      "1367824857635905536\n",
      "1367814401789722630\n",
      "1367810641604476933\n",
      "1367807222231744516\n",
      "1367791703441162251\n",
      "1367781856201039873\n",
      "1367765433462517762\n",
      "1367762493276254208\n",
      "1367760376125853702\n",
      "1367758027944771586\n",
      "1367742106165469185\n",
      "1367703842897293316\n",
      "1367691903798550532\n",
      "1367689190775738375\n",
      "1367677271096500227\n",
      "1367671853427224579\n",
      "1367671270393798659\n",
      "1367671052415856641\n"
     ]
    }
   ],
   "source": [
    "for a in status:\n",
    "    print(a[\"id\"])"
   ]
  },
  {
   "cell_type": "code",
   "execution_count": 48,
   "metadata": {},
   "outputs": [
    {
     "data": {
      "text/plain": [
       "'1368344655759171586'"
      ]
     },
     "execution_count": 48,
     "metadata": {},
     "output_type": "execute_result"
    }
   ],
   "source": [
    "next_since_id = tweets[\"search_metadata\"][\"max_id_str\"]\n",
    "next_since_id"
   ]
  },
  {
   "cell_type": "code",
   "execution_count": 47,
   "metadata": {},
   "outputs": [],
   "source": [
    "for tweet in status:\n",
    "    s3.put_object(Bucket='mlops-bot-buckets3-7yyc0rjc17i8',\n",
    "                  Body=json.dumps(tweet).encode('utf-8'),\n",
    "                  Key=\"tweets/\"+tweet['id_str']+\".json\")"
   ]
  },
  {
   "cell_type": "code",
   "execution_count": 54,
   "metadata": {
    "scrolled": true
   },
   "outputs": [
    {
     "data": {
      "text/plain": [
       "{'Version': 4,\n",
       " 'Tier': 'Standard',\n",
       " 'ResponseMetadata': {'RequestId': '03af3d3c-0126-42fe-bfd9-3745c911cfef',\n",
       "  'HTTPStatusCode': 200,\n",
       "  'HTTPHeaders': {'server': 'Server',\n",
       "   'date': 'Sun, 07 Mar 2021 00:24:14 GMT',\n",
       "   'content-type': 'application/x-amz-json-1.1',\n",
       "   'content-length': '31',\n",
       "   'connection': 'keep-alive',\n",
       "   'x-amzn-requestid': '03af3d3c-0126-42fe-bfd9-3745c911cfef'},\n",
       "  'RetryAttempts': 0}}"
      ]
     },
     "execution_count": 54,
     "metadata": {},
     "output_type": "execute_result"
    }
   ],
   "source": [
    "ssm.put_parameter(Name=\"mlops-bot-since-id\", Value=next_since_id, Overwrite=True)"
   ]
  },
  {
   "cell_type": "markdown",
   "metadata": {},
   "source": [
    "### Retweet"
   ]
  },
  {
   "cell_type": "code",
   "execution_count": 99,
   "metadata": {},
   "outputs": [],
   "source": [
    "event = {'Records': [{'messageId': '458c0f3d-0e62-40eb-a46f-612d89e15e78', 'receiptHandle': 'AQEBDXzyvPjARASm0nS7UPLTtU61af9iTTXg4GVi1lSBBaAFymebvhgvNAABX7h0EoGX5l28ATVITQFKGDJMQ0U2Hm10kHOt5raRJgRi+qJFoT+w00AT9ytsEJCum0PdPkZlLx9EKQArX27lzHGvWWn92BP7P9LZwFSAPX9ZFAH6H03chp/9DVELR9FcFy86GHoFLMAlym+f9L6JI8SBIXaES+mZsPMeLTqX2H5fmYRkthmXbxJIhJeBCSSQWt18qtnH8tmxb7N73+lF3G2/n/h/BAG+ucqTQWaJf1MqCbzMLiV9fSGVlIX3HRD41bqCrfCedJor4lZ7sExVQ64n8Urb9GIPpQ294R+iC4lt4KmX86MXsjPM1W1Z6SoK6TKyZwdbwVGmQfy4uAP5XUB5iQO+528vISe3jThJrsiZCOlXZt8=', 'body': '{\"Records\":[{\"eventVersion\":\"2.1\",\"eventSource\":\"aws:s3\",\"awsRegion\":\"us-east-1\",\"eventTime\":\"2021-03-07T01:41:44.333Z\",\"eventName\":\"ObjectCreated:Put\",\"userIdentity\":{\"principalId\":\"AWS:AIDA44HHEXASU6EIZNQX3\"},\"requestParameters\":{\"sourceIPAddress\":\"179.174.11.249\"},\"responseElements\":{\"x-amz-request-id\":\"YP0ZAVM58XDBG46P\",\"x-amz-id-2\":\"Lpm/1hCFaXVSKhBVEmJy8YXiTGqtrH2nddLclud0fM+vC3ATaOR5EYLaXFjZ29zpXO64+8HLGgMXaupcZ88W7V2XEJ/KAe+K\"},\"s3\":{\"s3SchemaVersion\":\"1.0\",\"configurationId\":\"a554374f-f6fb-4d82-961e-73ad6b5701c8\",\"bucket\":{\"name\":\"mlops-bot-buckets3-7yyc0rjc17i8\",\"ownerIdentity\":{\"principalId\":\"A1FV7ZV9PVIRFA\"},\"arn\":\"arn:aws:s3:::mlops-bot-buckets3-7yyc0rjc17i8\"},\"object\":{\"key\":\"tweets/1368194078115045376.json\",\"size\":2817,\"eTag\":\"339f983f797d716aaac8fab0f7af7a33\",\"sequencer\":\"0060442F5CDFA7A329\"}}}]}', 'attributes': {'ApproximateReceiveCount': '1', 'SentTimestamp': '1615081310209', 'SenderId': 'AIDAJHIPRHEMV73VRJEBU', 'ApproximateFirstReceiveTimestamp': '1615081313209'}, 'messageAttributes': {}, 'md5OfBody': '492aad3c3fedb70a2bca36778e8f2d20', 'eventSource': 'aws:sqs', 'eventSourceARN': 'arn:aws:sqs:us-east-1:885248014373:mlops-bot-QueueSQS-Q7LEDND0HCJ2', 'awsRegion': 'us-east-1'}]}"
   ]
  },
  {
   "cell_type": "code",
   "execution_count": 102,
   "metadata": {},
   "outputs": [
    {
     "name": "stdout",
     "output_type": "stream",
     "text": [
      "{'eventVersion': '2.1', 'eventSource': 'aws:s3', 'awsRegion': 'us-east-1', 'eventTime': '2021-03-07T01:41:44.333Z', 'eventName': 'ObjectCreated:Put', 'userIdentity': {'principalId': 'AWS:AIDA44HHEXASU6EIZNQX3'}, 'requestParameters': {'sourceIPAddress': '179.174.11.249'}, 'responseElements': {'x-amz-request-id': 'YP0ZAVM58XDBG46P', 'x-amz-id-2': 'Lpm/1hCFaXVSKhBVEmJy8YXiTGqtrH2nddLclud0fM+vC3ATaOR5EYLaXFjZ29zpXO64+8HLGgMXaupcZ88W7V2XEJ/KAe+K'}, 's3': {'s3SchemaVersion': '1.0', 'configurationId': 'a554374f-f6fb-4d82-961e-73ad6b5701c8', 'bucket': {'name': 'mlops-bot-buckets3-7yyc0rjc17i8', 'ownerIdentity': {'principalId': 'A1FV7ZV9PVIRFA'}, 'arn': 'arn:aws:s3:::mlops-bot-buckets3-7yyc0rjc17i8'}, 'object': {'key': 'tweets/1368194078115045376.json', 'size': 2817, 'eTag': '339f983f797d716aaac8fab0f7af7a33', 'sequencer': '0060442F5CDFA7A329'}}}\n"
     ]
    }
   ],
   "source": [
    "for msg in event[\"Records\"]:\n",
    "    body = json.loads(msg[\"body\"])[\"Records\"][0]\n",
    "    bucket = body[\"s3\"][\"bucket\"][\"name\"]\n",
    "    key = body[\"s3\"][\"object\"][\"key\"]\n",
    "    tweet = s3.get_object(Bucket=bucket, Key=key)\n",
    "    content = json.loads(tweet[\"Body\"].read().decode(\"utf-8\"))\n",
    "    try:\n",
    "        api.retweet(id=content[\"id\"])\n",
    "    except:\n",
    "        pass"
   ]
  },
  {
   "cell_type": "code",
   "execution_count": null,
   "metadata": {},
   "outputs": [],
   "source": []
  },
  {
   "cell_type": "code",
   "execution_count": 56,
   "metadata": {},
   "outputs": [],
   "source": [
    "sqs = boto3.client(\"sqs\")"
   ]
  },
  {
   "cell_type": "code",
   "execution_count": 59,
   "metadata": {},
   "outputs": [],
   "source": [
    "msg2 = sqs.receive_message(QueueUrl=\"https://sqs.us-east-1.amazonaws.com/885248014373/mlops-bot-QueueSQS-Q7LEDND0HCJ2\",\n",
    "                 MaxNumberOfMessages=2)"
   ]
  },
  {
   "cell_type": "code",
   "execution_count": 79,
   "metadata": {},
   "outputs": [],
   "source": [
    "bucket = json.loads(msg[\"Messages\"][0][\"Body\"])[\"Records\"][0][\"s3\"][\"bucket\"][\"name\"]\n",
    "key = json.loads(msg[\"Messages\"][0][\"Body\"])[\"Records\"][0][\"s3\"][\"object\"][\"key\"]"
   ]
  },
  {
   "cell_type": "code",
   "execution_count": 90,
   "metadata": {},
   "outputs": [],
   "source": [
    "tweet = s3.get_object(Bucket=bucket, Key=key)"
   ]
  },
  {
   "cell_type": "code",
   "execution_count": 91,
   "metadata": {},
   "outputs": [
    {
     "data": {
      "text/plain": [
       "{'created_at': 'Sat Mar 06 15:01:03 +0000 2021',\n",
       " 'id': 1368215051136610315,\n",
       " 'id_str': '1368215051136610315',\n",
       " 'text': '#MLLingo \\nAugmented Analytics - collating term to describe streams of Augmented Data Discovery, Data Preparation an… https://t.co/0rvJJLs2W5',\n",
       " 'truncated': True,\n",
       " 'entities': {'hashtags': [{'text': 'MLLingo', 'indices': [0, 8]}],\n",
       "  'symbols': [],\n",
       "  'user_mentions': [],\n",
       "  'urls': [{'url': 'https://t.co/0rvJJLs2W5',\n",
       "    'expanded_url': 'https://twitter.com/i/web/status/1368215051136610315',\n",
       "    'display_url': 'twitter.com/i/web/status/1…',\n",
       "    'indices': [117, 140]}]},\n",
       " 'metadata': {'iso_language_code': 'en', 'result_type': 'recent'},\n",
       " 'source': '<a href=\"http://twitter.com/download/android\" rel=\"nofollow\">Twitter for Android</a>',\n",
       " 'in_reply_to_status_id': None,\n",
       " 'in_reply_to_status_id_str': None,\n",
       " 'in_reply_to_user_id': None,\n",
       " 'in_reply_to_user_id_str': None,\n",
       " 'in_reply_to_screen_name': None,\n",
       " 'user': {'id': 1254968976163160064,\n",
       "  'id_str': '1254968976163160064',\n",
       "  'name': 'm-a-n-a-v',\n",
       "  'screen_name': '605ive',\n",
       "  'location': 'Canada',\n",
       "  'description': '',\n",
       "  'url': 'https://t.co/gDNXHKZbT2',\n",
       "  'entities': {'url': {'urls': [{'url': 'https://t.co/gDNXHKZbT2',\n",
       "      'expanded_url': 'http://605ive.com',\n",
       "      'display_url': '605ive.com',\n",
       "      'indices': [0, 23]}]},\n",
       "   'description': {'urls': []}},\n",
       "  'protected': False,\n",
       "  'followers_count': 24,\n",
       "  'friends_count': 335,\n",
       "  'listed_count': 0,\n",
       "  'created_at': 'Tue Apr 28 03:01:49 +0000 2020',\n",
       "  'favourites_count': 50,\n",
       "  'utc_offset': None,\n",
       "  'time_zone': None,\n",
       "  'geo_enabled': False,\n",
       "  'verified': False,\n",
       "  'statuses_count': 109,\n",
       "  'lang': None,\n",
       "  'contributors_enabled': False,\n",
       "  'is_translator': False,\n",
       "  'is_translation_enabled': False,\n",
       "  'profile_background_color': 'F5F8FA',\n",
       "  'profile_background_image_url': None,\n",
       "  'profile_background_image_url_https': None,\n",
       "  'profile_background_tile': False,\n",
       "  'profile_image_url': 'http://pbs.twimg.com/profile_images/1265677985115516929/oMyk3cgB_normal.jpg',\n",
       "  'profile_image_url_https': 'https://pbs.twimg.com/profile_images/1265677985115516929/oMyk3cgB_normal.jpg',\n",
       "  'profile_banner_url': 'https://pbs.twimg.com/profile_banners/1254968976163160064/1590061354',\n",
       "  'profile_link_color': '1DA1F2',\n",
       "  'profile_sidebar_border_color': 'C0DEED',\n",
       "  'profile_sidebar_fill_color': 'DDEEF6',\n",
       "  'profile_text_color': '333333',\n",
       "  'profile_use_background_image': True,\n",
       "  'has_extended_profile': False,\n",
       "  'default_profile': True,\n",
       "  'default_profile_image': False,\n",
       "  'following': False,\n",
       "  'follow_request_sent': False,\n",
       "  'notifications': False,\n",
       "  'translator_type': 'none'},\n",
       " 'geo': None,\n",
       " 'coordinates': None,\n",
       " 'place': None,\n",
       " 'contributors': None,\n",
       " 'is_quote_status': False,\n",
       " 'retweet_count': 8,\n",
       " 'favorite_count': 7,\n",
       " 'favorited': False,\n",
       " 'retweeted': False,\n",
       " 'lang': 'en'}"
      ]
     },
     "execution_count": 91,
     "metadata": {},
     "output_type": "execute_result"
    }
   ],
   "source": [
    "content = json.loads(tweet[\"Body\"].read().decode(\"utf-8\"))\n",
    "content"
   ]
  },
  {
   "cell_type": "code",
   "execution_count": 93,
   "metadata": {},
   "outputs": [
    {
     "data": {
      "text/plain": [
       "{'created_at': 'Sat Mar 06 15:01:03 +0000 2021',\n",
       " 'id': 1368215051136610315,\n",
       " 'id_str': '1368215051136610315',\n",
       " 'text': '#MLLingo \\nAugmented Analytics - collating term to describe streams of Augmented Data Discovery, Data Preparation an… https://t.co/0rvJJLs2W5',\n",
       " 'truncated': True,\n",
       " 'entities': {'hashtags': [{'text': 'MLLingo', 'indices': [0, 8]}],\n",
       "  'symbols': [],\n",
       "  'user_mentions': [],\n",
       "  'urls': [{'url': 'https://t.co/0rvJJLs2W5',\n",
       "    'expanded_url': 'https://twitter.com/i/web/status/1368215051136610315',\n",
       "    'display_url': 'twitter.com/i/web/status/1…',\n",
       "    'indices': [117, 140]}]},\n",
       " 'source': '<a href=\"http://twitter.com/download/android\" rel=\"nofollow\">Twitter for Android</a>',\n",
       " 'in_reply_to_status_id': None,\n",
       " 'in_reply_to_status_id_str': None,\n",
       " 'in_reply_to_user_id': None,\n",
       " 'in_reply_to_user_id_str': None,\n",
       " 'in_reply_to_screen_name': None,\n",
       " 'user': {'id': 1254968976163160064,\n",
       "  'id_str': '1254968976163160064',\n",
       "  'name': 'm-a-n-a-v',\n",
       "  'screen_name': '605ive',\n",
       "  'location': 'Canada',\n",
       "  'description': '',\n",
       "  'url': 'https://t.co/gDNXHKZbT2',\n",
       "  'entities': {'url': {'urls': [{'url': 'https://t.co/gDNXHKZbT2',\n",
       "      'expanded_url': 'http://605ive.com',\n",
       "      'display_url': '605ive.com',\n",
       "      'indices': [0, 23]}]},\n",
       "   'description': {'urls': []}},\n",
       "  'protected': False,\n",
       "  'followers_count': 24,\n",
       "  'friends_count': 335,\n",
       "  'listed_count': 0,\n",
       "  'created_at': 'Tue Apr 28 03:01:49 +0000 2020',\n",
       "  'favourites_count': 50,\n",
       "  'utc_offset': None,\n",
       "  'time_zone': None,\n",
       "  'geo_enabled': False,\n",
       "  'verified': False,\n",
       "  'statuses_count': 109,\n",
       "  'lang': None,\n",
       "  'contributors_enabled': False,\n",
       "  'is_translator': False,\n",
       "  'is_translation_enabled': False,\n",
       "  'profile_background_color': 'F5F8FA',\n",
       "  'profile_background_image_url': None,\n",
       "  'profile_background_image_url_https': None,\n",
       "  'profile_background_tile': False,\n",
       "  'profile_image_url': 'http://pbs.twimg.com/profile_images/1265677985115516929/oMyk3cgB_normal.jpg',\n",
       "  'profile_image_url_https': 'https://pbs.twimg.com/profile_images/1265677985115516929/oMyk3cgB_normal.jpg',\n",
       "  'profile_banner_url': 'https://pbs.twimg.com/profile_banners/1254968976163160064/1590061354',\n",
       "  'profile_link_color': '1DA1F2',\n",
       "  'profile_sidebar_border_color': 'C0DEED',\n",
       "  'profile_sidebar_fill_color': 'DDEEF6',\n",
       "  'profile_text_color': '333333',\n",
       "  'profile_use_background_image': True,\n",
       "  'has_extended_profile': False,\n",
       "  'default_profile': True,\n",
       "  'default_profile_image': False,\n",
       "  'following': False,\n",
       "  'follow_request_sent': False,\n",
       "  'notifications': False,\n",
       "  'translator_type': 'none'},\n",
       " 'geo': None,\n",
       " 'coordinates': None,\n",
       " 'place': None,\n",
       " 'contributors': None,\n",
       " 'is_quote_status': False,\n",
       " 'retweet_count': 15,\n",
       " 'favorite_count': 11,\n",
       " 'favorited': False,\n",
       " 'retweeted': True,\n",
       " 'lang': 'en'}"
      ]
     },
     "execution_count": 93,
     "metadata": {},
     "output_type": "execute_result"
    }
   ],
   "source": [
    "api.get_status(1368215051136610315)"
   ]
  },
  {
   "cell_type": "code",
   "execution_count": 95,
   "metadata": {},
   "outputs": [
    {
     "name": "stdout",
     "output_type": "stream",
     "text": [
      "oi\n"
     ]
    }
   ],
   "source": [
    "\n",
    "    print(\"oi\")"
   ]
  },
  {
   "cell_type": "code",
   "execution_count": 98,
   "metadata": {},
   "outputs": [
    {
     "name": "stdout",
     "output_type": "stream",
     "text": [
      "oi\n"
     ]
    }
   ],
   "source": [
    "try:\n",
    "    api.retweet(id=content[\"id\"])\n",
    "except:\n",
    "    print(\"oi\")"
   ]
  },
  {
   "cell_type": "code",
   "execution_count": 66,
   "metadata": {},
   "outputs": [
    {
     "data": {
      "text/plain": [
       "{'MessageId': '64554969-be51-46d4-8914-d51ba412bc32',\n",
       " 'ReceiptHandle': 'AQEBQHrPr75x6xWC8b+w7ZAZkq07+U8/S+82+8gzGQ+Iy5NcMPnAMItd2OrX15qXyRB6Zny540o/ufGOVV0SH3ye6E7XbedUVVZsw0eVN5iEtOAtC1ngy28qi4oPLgYOZz8TR51RanjwyP8Ju2QptZfTpORfp1yFRI3DgrpRfXrorQZ+AC+6UALtzIaZBZ7RZpdFuYyOu+y6qLUjpDXdia8AozAZCL5uvrlr77onBUifWd4vdsYePlkb1vXapCoama+A2YFiQtMycz1ZmWvcJCxgmYuWdnnLp7WVivHO0nUvznoy9LXsN4BXDczFrhmmxeUTGIb/4py13DfW0mge/OeSzMzzB3hxADkTC4wEPjWzgtCtK/wbOOne9gMzsx7M9TRfEJIWbty/mQ08tDZ/9x41for9NPV9F4YWgm/peN81G/o=',\n",
       " 'MD5OfBody': 'cd13b1f63527b7ec128dab7d1a0e83f9',\n",
       " 'Body': '{\"Records\":[{\"eventVersion\":\"2.1\",\"eventSource\":\"aws:s3\",\"awsRegion\":\"us-east-1\",\"eventTime\":\"2021-03-07T00:54:58.417Z\",\"eventName\":\"ObjectCreated:Put\",\"userIdentity\":{\"principalId\":\"AWS:AIDA44HHEXASU6EIZNQX3\"},\"requestParameters\":{\"sourceIPAddress\":\"179.174.11.249\"},\"responseElements\":{\"x-amz-request-id\":\"VQFR6R1Y2JYTZDMY\",\"x-amz-id-2\":\"YWVRGMftKsO9OVWttJgwIRkqT8QqKugmncKXuRZJtXVaZbXi1v90vkfQa7tPkatUQ+E2U9U/hxxG5/ycZDyDRg8cMkpp7SUyMEJrCVYnrGw=\"},\"s3\":{\"s3SchemaVersion\":\"1.0\",\"configurationId\":\"a554374f-f6fb-4d82-961e-73ad6b5701c8\",\"bucket\":{\"name\":\"mlops-bot-buckets3-7yyc0rjc17i8\",\"ownerIdentity\":{\"principalId\":\"A1FV7ZV9PVIRFA\"},\"arn\":\"arn:aws:s3:::mlops-bot-buckets3-7yyc0rjc17i8\"},\"object\":{\"key\":\"tweets/1368271386444201991.json\",\"size\":6645,\"eTag\":\"f7f9b2db8854e43fd36ebc6dc76e53ee\",\"sequencer\":\"0060442463CD6D2962\"}}}]}'}"
      ]
     },
     "execution_count": 66,
     "metadata": {},
     "output_type": "execute_result"
    }
   ],
   "source": [
    "msg2[\"Messages\"][1]"
   ]
  },
  {
   "cell_type": "code",
   "execution_count": null,
   "metadata": {},
   "outputs": [],
   "source": []
  },
  {
   "cell_type": "code",
   "execution_count": null,
   "metadata": {},
   "outputs": [],
   "source": []
  },
  {
   "cell_type": "code",
   "execution_count": 1,
   "metadata": {},
   "outputs": [],
   "source": [
    "import boto3\n",
    "client = boto3.client(\"ecr\")\n",
    "details = client.describe_images(repositoryName='mlopsbot/tweets', imageIds=[{'imageTag': 'latest'}])\n",
    "digest = details[\"imageDetails\"][0][\"imageDigest\"]\n",
    "print(\"export DIGEST_TWEET=%s\" % (pipes.quote(str(digest))))"
   ]
  },
  {
   "cell_type": "code",
   "execution_count": 2,
   "metadata": {},
   "outputs": [],
   "source": []
  },
  {
   "cell_type": "code",
   "execution_count": 5,
   "metadata": {},
   "outputs": [],
   "source": []
  },
  {
   "cell_type": "code",
   "execution_count": 11,
   "metadata": {},
   "outputs": [],
   "source": []
  },
  {
   "cell_type": "code",
   "execution_count": 12,
   "metadata": {},
   "outputs": [
    {
     "data": {
      "text/plain": [
       "'sha256:102295f6e0e9d83382b02fd1a94fb24623252a2cefec845f9529e8583c9d1f43'"
      ]
     },
     "execution_count": 12,
     "metadata": {},
     "output_type": "execute_result"
    }
   ],
   "source": [
    "digest"
   ]
  },
  {
   "cell_type": "code",
   "execution_count": null,
   "metadata": {},
   "outputs": [],
   "source": [
    "r = random.randint(1,100)\n"
   ]
  }
 ],
 "metadata": {
  "kernelspec": {
   "display_name": "Python 3",
   "language": "python",
   "name": "python3"
  },
  "language_info": {
   "codemirror_mode": {
    "name": "ipython",
    "version": 3
   },
   "file_extension": ".py",
   "mimetype": "text/x-python",
   "name": "python",
   "nbconvert_exporter": "python",
   "pygments_lexer": "ipython3",
   "version": "3.8.5"
  }
 },
 "nbformat": 4,
 "nbformat_minor": 5
}
